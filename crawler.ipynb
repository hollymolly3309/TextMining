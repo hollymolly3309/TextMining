{
 "cells": [
  {
   "cell_type": "code",
   "execution_count": 21,
   "metadata": {},
   "outputs": [],
   "source": [
    "import praw"
   ]
  },
  {
   "cell_type": "code",
   "execution_count": 22,
   "metadata": {},
   "outputs": [
    {
     "name": "stdout",
     "output_type": "stream",
     "text": [
      "https://www.reddit.com/api/v1/authorize?client_id=OCyv9IUd303hhRWCepBfpA&duration=permanent&redirect_uri=http%3A%2F%2Flocalhost%3A8080&response_type=code&scope=identity&state=...\n"
     ]
    }
   ],
   "source": [
    "reddit = praw.Reddit(client_id=\"OCyv9IUd303hhRWCepBfpA\", client_secret=\"8p6xlz6y8fHPeMUv8Xb_4U0xjm0AHg\", redirect_uri=\"http://localhost:8080\", user_agent=\"hollymolly3309\")\n",
    "print(reddit.auth.url(scopes=[\"identity\"], state=\"...\", duration=\"permanent\"))\n"
   ]
  },
  {
   "cell_type": "code",
   "execution_count": 23,
   "metadata": {},
   "outputs": [],
   "source": [
    "import pandas as pd\n",
    "url = \"https://www.reddit.com/r/funny/comments/3g1jfi/buttons/\"\n",
    "submission = reddit.submission(url=url)"
   ]
  },
  {
   "cell_type": "code",
   "execution_count": 27,
   "metadata": {},
   "outputs": [],
   "source": [
    "\n",
    "def comment_lists(submission, list_num):\n",
    "    submission_revised = submission\n",
    "    submission_revised.comments.replace_more(limit=0)\n",
    "    list = submission_revised.comments.list()\n",
    "    for c in list:\n",
    "        if c.body == \"[deleted]\" or c.body == \"[removed]\":\n",
    "            list.remove(c)\n",
    "    list_num.append(len(list))\n",
    "    # print(len(list))\n",
    "    return list\n"
   ]
  },
  {
   "cell_type": "code",
   "execution_count": 28,
   "metadata": {},
   "outputs": [],
   "source": [
    "submission_news = reddit.subreddit(\"news\").hot(limit = 50)"
   ]
  },
  {
   "cell_type": "code",
   "execution_count": 29,
   "metadata": {},
   "outputs": [],
   "source": [
    "\n",
    "submission_final = []\n",
    "list_num = []\n",
    "for submission in submission_news:\n",
    "    submission_final.append(comment_lists(submission, list_num))\n",
    "    # Flatten the list of comments\n",
    "    flattened_comments = [comment.body for sublist in submission_final for comment in sublist]\n",
    "\n",
    "    # Create a DataFrame with comments\n",
    "    df_comments = pd.DataFrame(flattened_comments, columns=['comment'])\n",
    "\n",
    "    # Save the DataFrame to a CSV file\n",
    "    df_comments.to_csv('comments.csv', index=False)"
   ]
  },
  {
   "cell_type": "code",
   "execution_count": 8,
   "metadata": {},
   "outputs": [],
   "source": [
    "import csv\n",
    "\n",
    "# Flatten the list of comments\n",
    "flattened_comments = [comment for sublist in submission_final for comment in sublist]\n",
    "\n",
    "# Create a list of dictionaries with comment details\n",
    "comments_data = [{'id': comment.id, 'body': comment.body, 'author': str(comment.author), 'score': comment.score} for comment in flattened_comments]\n",
    "\n",
    "# Convert the list of dictionaries to a DataFrame\n",
    "df_comments = pd.DataFrame(comments_data)\n",
    "\n",
    "# Save the DataFrame to a CSV file\n",
    "df_comments.to_csv('submission_final_comments.csv', index=False)"
   ]
  }
 ],
 "metadata": {
  "kernelspec": {
   "display_name": "Python 3",
   "language": "python",
   "name": "python3"
  },
  "language_info": {
   "codemirror_mode": {
    "name": "ipython",
    "version": 3
   },
   "file_extension": ".py",
   "mimetype": "text/x-python",
   "name": "python",
   "nbconvert_exporter": "python",
   "pygments_lexer": "ipython3",
   "version": "3.8.0"
  }
 },
 "nbformat": 4,
 "nbformat_minor": 2
}

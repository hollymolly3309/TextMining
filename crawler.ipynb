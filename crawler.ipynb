{
 "cells": [
  {
   "cell_type": "code",
   "execution_count": 1,
   "metadata": {},
   "outputs": [],
   "source": [
    "import praw"
   ]
  },
  {
   "cell_type": "code",
   "execution_count": 2,
   "metadata": {},
   "outputs": [
    {
     "name": "stdout",
     "output_type": "stream",
     "text": [
      "https://www.reddit.com/api/v1/authorize?client_id=OCyv9IUd303hhRWCepBfpA&duration=permanent&redirect_uri=http%3A%2F%2Flocalhost%3A8080&response_type=code&scope=identity&state=...\n"
     ]
    }
   ],
   "source": [
    "reddit = praw.Reddit(client_id=\"OCyv9IUd303hhRWCepBfpA\", client_secret=\"8p6xlz6y8fHPeMUv8Xb_4U0xjm0AHg\", redirect_uri=\"http://localhost:8080\", user_agent=\"hollymolly3309\")\n",
    "print(reddit.auth.url(scopes=[\"identity\"], state=\"...\", duration=\"permanent\"))\n"
   ]
  },
  {
   "cell_type": "code",
   "execution_count": 3,
   "metadata": {},
   "outputs": [],
   "source": [
    "import pandas as pd\n",
    "url = \"https://www.reddit.com/r/funny/comments/3g1jfi/buttons/\"\n",
    "submission = reddit.submission(url=url)"
   ]
  },
  {
   "cell_type": "code",
   "execution_count": 5,
   "metadata": {},
   "outputs": [],
   "source": [
    "def comment_lists(submission):\n",
    "    submission_revised = submission\n",
    "    submission_revised.comments.replace_more(limit=0)\n",
    "    list = submission_revised.comments.list()\n",
    "    for c in list:\n",
    "        if c.body == \"[deleted]\":\n",
    "            list.remove(c)\n",
    "    print(len(list))\n",
    "    return list\n",
    "    "
   ]
  },
  {
   "cell_type": "code",
   "execution_count": 6,
   "metadata": {},
   "outputs": [
    {
     "name": "stdout",
     "output_type": "stream",
     "text": [
      "Swiss Olympic snowboarder Sophie Hediger dies in avalanche at 26\n",
      "177\n",
      "Former Abercrombie & Fitch CEO, who is charged with sex trafficking, has dementia, lawyers say\n",
      "384\n",
      "Orca carried her dead calf for 17 days. She now has a new baby\n",
      "22\n",
      "Suspect in fatal New York subway burning of passenger arraigned in court\n",
      "264\n",
      "Letter urging residents to report ‘brown folks’ condemned by Oregon officials\n",
      "96\n"
     ]
    }
   ],
   "source": [
    "submission_news = reddit.subreddit(\"news\").hot(limit = 5)\n",
    "for submission in submission_news:\n",
    "    print(submission.title)\n",
    "    comment_lists(submission)\n",
    "    "
   ]
  }
 ],
 "metadata": {
  "kernelspec": {
   "display_name": "Python 3",
   "language": "python",
   "name": "python3"
  },
  "language_info": {
   "codemirror_mode": {
    "name": "ipython",
    "version": 3
   },
   "file_extension": ".py",
   "mimetype": "text/x-python",
   "name": "python",
   "nbconvert_exporter": "python",
   "pygments_lexer": "ipython3",
   "version": "3.8.0"
  }
 },
 "nbformat": 4,
 "nbformat_minor": 2
}
